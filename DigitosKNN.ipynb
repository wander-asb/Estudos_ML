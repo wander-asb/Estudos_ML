{
  "nbformat": 4,
  "nbformat_minor": 0,
  "metadata": {
    "colab": {
      "provenance": [],
      "authorship_tag": "ABX9TyOLza22mSY/JY9JbKMpGoGp",
      "include_colab_link": true
    },
    "kernelspec": {
      "name": "python3",
      "display_name": "Python 3"
    },
    "language_info": {
      "name": "python"
    }
  },
  "cells": [
    {
      "cell_type": "markdown",
      "metadata": {
        "id": "view-in-github",
        "colab_type": "text"
      },
      "source": [
        "<a href=\"https://colab.research.google.com/github/wander-asb/Repositorio-de-estudos/blob/main/DigitosKNN.ipynb\" target=\"_parent\"><img src=\"https://colab.research.google.com/assets/colab-badge.svg\" alt=\"Open In Colab\"/></a>"
      ]
    },
    {
      "cell_type": "code",
      "execution_count": 48,
      "metadata": {
        "id": "r2sAoijxHQH5"
      },
      "outputs": [],
      "source": [
        "import numpy as np\n",
        "import pandas as pd\n",
        "from sklearn import datasets\n",
        "import matplotlib.pyplot as plt\n",
        "from sklearn.model_selection import train_test_split\n",
        "from sklearn.neighbors import KNeighborsClassifier"
      ]
    },
    {
      "cell_type": "code",
      "source": [
        "#Importar a tabela da base de dados\n",
        "df_digitos = datasets.load_digits()"
      ],
      "metadata": {
        "id": "8656WjGNHWbF"
      },
      "execution_count": 49,
      "outputs": []
    },
    {
      "cell_type": "code",
      "source": [
        "imagens_rotulos = list(zip(df_digitos.images, df_digitos.target))\n",
        "for index, (image, label) in enumerate(imagens_rotulos[:4]):\n",
        "  plt.subplot(2, 4, index + 1)\n",
        "  plt.axis('off')\n",
        "  plt.imshow(image, cmap = plt.cm.gray_r, interpolation='nearest')\n",
        "  plt.title('Label: %i' % label)"
      ],
      "metadata": {
        "colab": {
          "base_uri": "https://localhost:8080/",
          "height": 120
        },
        "id": "Wg1J9aNeHj5O",
        "outputId": "bd1c0285-4a90-42c7-bd80-addfe2ef8f76"
      },
      "execution_count": 50,
      "outputs": [
        {
          "output_type": "display_data",
          "data": {
            "text/plain": [
              "<Figure size 432x288 with 4 Axes>"
            ],
            "image/png": "[encoded data removed]"
          },
          "metadata": {
            "needs_background": "light"
          }
        }
      ]
    },
    {
      "cell_type": "code",
      "source": [
        "X = df_digitos.data\n",
        "Y = df_digitos.target\n",
        "\n",
        "print(X.shape, Y.shape)"
      ],
      "metadata": {
        "colab": {
          "base_uri": "https://localhost:8080/"
        },
        "id": "ALbKmd2hHrUU",
        "outputId": "b781efaf-1fca-4cc5-a351-6c2c02f2706c"
      },
      "execution_count": 51,
      "outputs": [
        {
          "output_type": "stream",
          "name": "stdout",
          "text": [
            "(1797, 64) (1797,)\n"
          ]
        }
      ]
    },
    {
      "cell_type": "code",
      "source": [
        "#Divisão dos dados de teino e teste\n",
        "X_treino, testeData, Y_treino, testeLabels = train_test_split(X, Y, test_size = 0.30, random_state = 75)\n",
        "print(X_treino.shape, testeData.shape, Y_treino.shape, testeLabels.shape)\n",
        "\n",
        "#Divisão dos dados de treino em dados de treino e validação\n",
        "treinoData, validData, treinoLabels, validLabels = train_test_split(X_treino, Y_treino, test_size = 0.1, random_state = 42)\n",
        "print(treinoData.shape, validData.shape, treinoLabels.shape, validLabels.shape)"
      ],
      "metadata": {
        "colab": {
          "base_uri": "https://localhost:8080/"
        },
        "id": "52-ubHCBH5NU",
        "outputId": "76dafe2e-db0f-4a07-83ab-4bd0dab93387"
      },
      "execution_count": 52,
      "outputs": [
        {
          "output_type": "stream",
          "name": "stdout",
          "text": [
            "(1257, 64) (540, 64) (1257,) (540,)\n",
            "(1131, 64) (126, 64) (1131,) (126,)\n"
          ]
        }
      ]
    },
    {
      "cell_type": "code",
      "source": [
        "#Normalização dos dados de treino\n",
        "X_norm = np.mean(X, axis = 0)\n",
        "\n",
        "#Normalização dos dados de treino e de teste\n",
        "X_treino_norm = treinoData - X_norm\n",
        "X_val_treino_norm = validData - X_norm\n",
        "X_teste_norm = testeData - X_norm\n",
        "print(treinoData.shape, validData.shape, testeData.shape)"
      ],
      "metadata": {
        "colab": {
          "base_uri": "https://localhost:8080/"
        },
        "id": "EbjuuPlBKITc",
        "outputId": "781376f5-e217-4089-e112-3c016f3fbb05"
      },
      "execution_count": 53,
      "outputs": [
        {
          "output_type": "stream",
          "name": "stdout",
          "text": [
            "(1131, 64) (126, 64) (540, 64)\n"
          ]
        }
      ]
    },
    {
      "cell_type": "code",
      "source": [
        "#Validação do modelo\n",
        "\n",
        "#Iremos trazer apenas K valores ímpares de range 1 -> 30\n",
        "kVals = range(1, 30)\n",
        "\n",
        "##Criaremos uma lista que guardará todos os resultados encontrados no processo de validação\n",
        "acuracias = []"
      ],
      "metadata": {
        "id": "13hLkX1YMhKH"
      },
      "execution_count": 57,
      "outputs": []
    },
    {
      "cell_type": "code",
      "source": [
        "#Desenvolvimento no método de validação\n",
        "for k in kVals:\n",
        "  #Treinando o modelo KNN com cada valor de k\n",
        "  modeloKNN = KNeighborsClassifier(n_neighbors=k)\n",
        "  modeloKNN.fit(treinoData, treinoLabels)\n",
        "\n",
        "  #Avaliando o modelo e atualizando a lista de acurácias\n",
        "  score = modeloKNN.score(validData, validLabels)\n",
        "  print(\"Com valor de K = %d, a acuracia é = %.2f%%\" % (k, score * 100))\n",
        "  acuracias.append(score)"
      ],
      "metadata": {
        "colab": {
          "base_uri": "https://localhost:8080/"
        },
        "id": "MKuxPXdtOZZx",
        "outputId": "bffe877e-635d-4795-96d7-a2070d6cf158"
      },
      "execution_count": 58,
      "outputs": [
        {
          "output_type": "stream",
          "name": "stdout",
          "text": [
            "Com valor de K = 1, a acuracia é = 99.21%\n",
            "Com valor de K = 2, a acuracia é = 99.21%\n",
            "Com valor de K = 3, a acuracia é = 100.00%\n",
            "Com valor de K = 4, a acuracia é = 100.00%\n",
            "Com valor de K = 5, a acuracia é = 100.00%\n",
            "Com valor de K = 6, a acuracia é = 100.00%\n",
            "Com valor de K = 7, a acuracia é = 99.21%\n",
            "Com valor de K = 8, a acuracia é = 100.00%\n",
            "Com valor de K = 9, a acuracia é = 100.00%\n",
            "Com valor de K = 10, a acuracia é = 100.00%\n",
            "Com valor de K = 11, a acuracia é = 100.00%\n",
            "Com valor de K = 12, a acuracia é = 99.21%\n",
            "Com valor de K = 13, a acuracia é = 99.21%\n",
            "Com valor de K = 14, a acuracia é = 98.41%\n",
            "Com valor de K = 15, a acuracia é = 98.41%\n",
            "Com valor de K = 16, a acuracia é = 98.41%\n",
            "Com valor de K = 17, a acuracia é = 98.41%\n",
            "Com valor de K = 18, a acuracia é = 96.83%\n",
            "Com valor de K = 19, a acuracia é = 96.83%\n",
            "Com valor de K = 20, a acuracia é = 96.83%\n",
            "Com valor de K = 21, a acuracia é = 96.83%\n",
            "Com valor de K = 22, a acuracia é = 96.83%\n",
            "Com valor de K = 23, a acuracia é = 97.62%\n",
            "Com valor de K = 24, a acuracia é = 96.83%\n",
            "Com valor de K = 25, a acuracia é = 96.83%\n",
            "Com valor de K = 26, a acuracia é = 96.83%\n",
            "Com valor de K = 27, a acuracia é = 96.83%\n",
            "Com valor de K = 28, a acuracia é = 96.03%\n",
            "Com valor de K = 29, a acuracia é = 96.03%\n"
          ]
        }
      ]
    },
    {
      "cell_type": "code",
      "source": [
        "i = np.argmax(acuracias)\n",
        "print(\"Maior acuracia encontrada: %.2f%% no valor de K: %d\" % (acuracias[i] * 100, kVals[i]))"
      ],
      "metadata": {
        "colab": {
          "base_uri": "https://localhost:8080/"
        },
        "id": "vj_j_pygQD8Q",
        "outputId": "172f2480-ba66-4f6e-f0da-72920eb573bf"
      },
      "execution_count": 59,
      "outputs": [
        {
          "output_type": "stream",
          "name": "stdout",
          "text": [
            "Maior acuracia encontrada: 100.00% no valor de K: 3\n"
          ]
        }
      ]
    },
    {
      "cell_type": "code",
      "source": [],
      "metadata": {
        "id": "Q5ZSIkRjSa7a"
      },
      "execution_count": 56,
      "outputs": []
    }
  ]
}