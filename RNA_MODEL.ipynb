{
  "nbformat": 4,
  "nbformat_minor": 0,
  "metadata": {
    "colab": {
      "provenance": [],
      "authorship_tag": "ABX9TyMQ9/vhUQlkfR6ocDRcOiYh",
      "include_colab_link": true
    },
    "kernelspec": {
      "name": "python3",
      "display_name": "Python 3"
    },
    "language_info": {
      "name": "python"
    }
  },
  "cells": [
    {
      "cell_type": "markdown",
      "metadata": {
        "id": "view-in-github",
        "colab_type": "text"
      },
      "source": [
        "<a href=\"https://colab.research.google.com/github/wander-asb/Repositorio-de-estudos/blob/main/RNA_MODEL.ipynb\" target=\"_parent\"><img src=\"https://colab.research.google.com/assets/colab-badge.svg\" alt=\"Open In Colab\"/></a>"
      ]
    },
    {
      "cell_type": "markdown",
      "source": [
        "## Bibliotecas"
      ],
      "metadata": {
        "id": "QFGKR5MIjhDV"
      }
    },
    {
      "cell_type": "code",
      "execution_count": 1,
      "metadata": {
        "id": "NoPKCaiS30R9"
      },
      "outputs": [],
      "source": [
        "#Bibliotecas\n",
        "import numpy as np"
      ]
    },
    {
      "cell_type": "markdown",
      "source": [
        "## Desenvolvendo a Função de Inicialização de Pesos"
      ],
      "metadata": {
        "id": "7O-Em5j_AfK-"
      }
    },
    {
      "cell_type": "code",
      "source": [
        "# Função para inicialização randômica dos parâmetros\n",
        "def inicializa_parametros(dims_camada_entrada):\n",
        "\n",
        "  # Dicionario para os parâmetros\n",
        "  parameters = {}\n",
        "\n",
        "  # Comprimento das dimensões das camadas\n",
        "  comp = len(dims_camada_entrada)\n",
        "\n",
        "  # Loop pelo comprimento\n",
        "  for i in range(1, comp):\n",
        "\n",
        "    # Inicialização da matriz de pesos\n",
        "    parameters[\"W\" + str(i)] = np.random.randn(dims_camada_entrada[i], dims_camada_entrada[i - 1]) * 0.01\n",
        "\n",
        "    # Inicialização do bias\n",
        "    parameters[\"b\" + str(i)] = np.zeros((dims_camada_entrada[i], 1))\n",
        "\n",
        "  return parameters"
      ],
      "metadata": {
        "id": "8t-I71xR34m0"
      },
      "execution_count": 2,
      "outputs": []
    },
    {
      "cell_type": "markdown",
      "source": [
        "## Desenvolvendo a Função Sigmoide"
      ],
      "metadata": {
        "id": "AAjfbVE2Aj3c"
      }
    },
    {
      "cell_type": "code",
      "source": [
        "\n",
        "\n",
        "\n",
        "\n",
        "\n",
        "\n"
      ],
      "metadata": {
        "id": "wjX6zvoL-wug"
      },
      "execution_count": 2,
      "outputs": []
    }
  ]
}