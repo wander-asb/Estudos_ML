{
  "nbformat": 4,
  "nbformat_minor": 0,
  "metadata": {
    "colab": {
      "name": "COVID_AM_TRATAMENTO_DE_DADOS.ipynb",
      "provenance": [],
      "collapsed_sections": [],
      "authorship_tag": "ABX9TyO9yQ/VDHeO9wqTEEmt0nSi"
    },
    "kernelspec": {
      "name": "python3",
      "display_name": "Python 3"
    },
    "language_info": {
      "name": "python"
    }
  },
  "cells": [
    {
      "cell_type": "code",
      "source": [
        "import pandas as pd\n",
        "import numpy as np\n",
        "import seaborn as sn\n",
        "import matplotlib.pyplot as plt\n",
        "from google.colab                import drive\n",
        "\n",
        "pd.set_option('display.max_columns', 500)"
      ],
      "metadata": {
        "id": "Ohm3KqY76msg"
      },
      "execution_count": 154,
      "outputs": []
    },
    {
      "cell_type": "code",
      "source": [
        "drive.mount('/content/gdrive')"
      ],
      "metadata": {
        "colab": {
          "base_uri": "https://localhost:8080/"
        },
        "id": "ElNpSFpW6w8n",
        "outputId": "454bdcc2-64af-4165-e410-330ecd121c9c"
      },
      "execution_count": 155,
      "outputs": [
        {
          "output_type": "stream",
          "name": "stdout",
          "text": [
            "Drive already mounted at /content/gdrive; to attempt to forcibly remount, call drive.mount(\"/content/gdrive\", force_remount=True).\n"
          ]
        }
      ]
    },
    {
      "cell_type": "code",
      "execution_count": 156,
      "metadata": {
        "id": "goQUgjQh6lrP"
      },
      "outputs": [],
      "source": [
        "df_am = pd.read_csv('/content/gdrive/MyDrive/Datasets/base_covid_AM/base.csv', sep=';', low_memory=False, parse_dates=['_dt_notificacao','_dt_evolucao','_dt_sintomas'])\n",
        "df_am = df_am.drop(['_etnia', '_faixa etária', '_raca',\n",
        "                    '_conclusao', '_se_notificacao', '_evolução','_origem',\n",
        "                    '_distrito', '_bairro_mapa','_dt_evolucao', '_dt_notificacao', '_dt_sintomas'], axis = 1)"
      ]
    },
    {
      "cell_type": "markdown",
      "source": [
        "### Tratamento e análise exploratória dos dados"
      ],
      "metadata": {
        "id": "fZkPxMZPXlZ9"
      }
    },
    {
      "cell_type": "code",
      "source": [
        "df_am[['_comorb_cardio', '_comorb_cromossomica',\n",
        "       '_comorb_diabetes', '_comorb_hemato', '_comorb_hepatica',\n",
        "       '_comorb_imuno', '_comorb_neurologica', '_comorb_obessidade',\n",
        "       '_comorb_renal', '_comorb_respiratoria','_gestante', '_profiss_saude',\n",
        "       '_sintoma_dispneia', '_sintoma_febre', '_sintoma_garganta',\n",
        "       '_sintoma_tosse','_sintoma_olfato', '_sintoma_paladar','_sintoma_outros']] = df_am[['_comorb_cardio', '_comorb_cromossomica',\n",
        "       '_comorb_diabetes', '_comorb_hemato', '_comorb_hepatica',\n",
        "       '_comorb_imuno', '_comorb_neurologica', '_comorb_obessidade',\n",
        "       '_comorb_renal', '_comorb_respiratoria','_gestante', '_profiss_saude',\n",
        "       '_sintoma_dispneia', '_sintoma_febre', '_sintoma_garganta',\n",
        "       '_sintoma_tosse','_sintoma_olfato', '_sintoma_paladar', '_sintoma_outros']].replace('Sim', 1).fillna(0).astype('int64')"
      ],
      "metadata": {
        "id": "34KUKUpe6OBT"
      },
      "execution_count": 157,
      "outputs": []
    },
    {
      "cell_type": "code",
      "source": [
        "#Variável de idade fora do padrão\n",
        "df_am['_idade'].hist()"
      ],
      "metadata": {
        "colab": {
          "base_uri": "https://localhost:8080/",
          "height": 283
        },
        "id": "3hGnjS-IXjjY",
        "outputId": "4da3cc9f-899c-4d1b-ffd3-91dda823e307"
      },
      "execution_count": 158,
      "outputs": [
        {
          "output_type": "execute_result",
          "data": {
            "text/plain": [
              "<matplotlib.axes._subplots.AxesSubplot at 0x7f8170519ed0>"
            ]
          },
          "metadata": {},
          "execution_count": 158
        },
        {
          "output_type": "display_data",
          "data": {
            "text/plain": [
              "<Figure size 432x288 with 1 Axes>"
            ],
            "image/png": "[encoded data removed]"
          },
          "metadata": {
            "needs_background": "light"
          }
        }
      ]
    },
    {
      "cell_type": "code",
      "source": [
        "df_am = df_am[(df_am['_idade'] >= 18.0) & (df_am['_idade'] <= 100.0)]\n",
        "df_am['_idade'] = df_am['_idade'].fillna(df_am['_idade'].median()).astype('int64')"
      ],
      "metadata": {
        "id": "eyi81JjH_fL8"
      },
      "execution_count": 159,
      "outputs": []
    },
    {
      "cell_type": "code",
      "source": [
        "df_am['_idade'].hist(bins=20)"
      ],
      "metadata": {
        "id": "Lojy4f-hdo9j",
        "outputId": "af413744-bef7-4d73-eeed-70ef59add939",
        "colab": {
          "base_uri": "https://localhost:8080/",
          "height": 284
        }
      },
      "execution_count": 160,
      "outputs": [
        {
          "output_type": "execute_result",
          "data": {
            "text/plain": [
              "<matplotlib.axes._subplots.AxesSubplot at 0x7f8170146890>"
            ]
          },
          "metadata": {},
          "execution_count": 160
        },
        {
          "output_type": "display_data",
          "data": {
            "text/plain": [
              "<Figure size 432x288 with 1 Axes>"
            ],
            "image/png": "[encoded data removed]"
          },
          "metadata": {
            "needs_background": "light"
          }
        }
      ]
    },
    {
      "cell_type": "markdown",
      "source": [
        "### Feature Engineering"
      ],
      "metadata": {
        "id": "6GWUFQESPo7v"
      }
    },
    {
      "cell_type": "code",
      "source": [
        "df_am.head(7)"
      ],
      "metadata": {
        "id": "WICfAsJ8eDNX",
        "outputId": "e6f54c1f-b898-4b73-958e-97e141598ac9",
        "colab": {
          "base_uri": "https://localhost:8080/",
          "height": 454
        }
      },
      "execution_count": 161,
      "outputs": [
        {
          "output_type": "execute_result",
          "data": {
            "text/plain": [
              "   _classificacao  _comorb_cardio  _comorb_cromossomica  _comorb_diabetes  \\\n",
              "1      Confirmado               0                     0                 0   \n",
              "2      Descartado               0                     0                 0   \n",
              "3      Descartado               0                     0                 0   \n",
              "8      Descartado               0                     0                 0   \n",
              "9      Descartado               1                     0                 0   \n",
              "10     Confirmado               1                     0                 1   \n",
              "11     Descartado               0                     0                 0   \n",
              "\n",
              "    _comorb_hemato  _comorb_hepatica  _comorb_imuno  _comorb_neurologica  \\\n",
              "1                0                 0              0                    0   \n",
              "2                0                 0              0                    0   \n",
              "3                0                 0              0                    0   \n",
              "8                0                 0              0                    0   \n",
              "9                0                 0              0                    0   \n",
              "10               0                 0              0                    0   \n",
              "11               0                 0              0                    0   \n",
              "\n",
              "    _comorb_obessidade  _comorb_renal  _comorb_respiratoria         _criterio  \\\n",
              "1                    0              0                     0      Laboratorial   \n",
              "2                    0              0                     0      Laboratorial   \n",
              "3                    0              0                     0      Laboratorial   \n",
              "8                    0              0                     0      Laboratorial   \n",
              "9                    0              0                     0      Laboratorial   \n",
              "10                   0              0                     1      Laboratorial   \n",
              "11                   0              0                     0  Critério Clínico   \n",
              "\n",
              "    _idade  _gestante  _profiss_saude _sexo  _sintoma_dispneia  \\\n",
              "1       26          0               0     F                  1   \n",
              "2       27          0               0     M                  1   \n",
              "3       94          0               0     M                  1   \n",
              "8       28          0               0     F                  1   \n",
              "9       80          0               0     M                  1   \n",
              "10      74          0               0     M                  1   \n",
              "11      23          1               0     F                  0   \n",
              "\n",
              "    _sintoma_febre  _sintoma_garganta  _sintoma_tosse         _bairro  \\\n",
              "1                1                  1               1      TARUMA-ACU   \n",
              "2                1                  1               1  JORGE TEIXEIRA   \n",
              "3                1                  1               1          FLORES   \n",
              "8                1                  0               1  CIDADE DE DEUS   \n",
              "9                1                  0               1      PETROPOLIS   \n",
              "10               1                  1               1    CACHOEIRINHA   \n",
              "11               1                  1               1  SANTA ETELVINA   \n",
              "\n",
              "    _sintoma_olfato  _sintoma_paladar  _sintoma_outros                  _srag  \\\n",
              "1                 0                 0                1     SRAG por influenza   \n",
              "2                 0                 0                1  SRAG não especificado   \n",
              "3                 0                 0                1  SRAG não especificado   \n",
              "8                 0                 0                1  SRAG não especificado   \n",
              "9                 0                 0                1  SRAG não especificado   \n",
              "10                0                 0                1     SRAG por influenza   \n",
              "11                0                 0                1  SRAG não especificado   \n",
              "\n",
              "          _taxa  _teste_anticorpo  _teste_antigeno  _teste_pcr _srag_agente  \n",
              "1   0,684931507               NaN              1.0         1.0  Influenza B  \n",
              "2   0,073137374               NaN              1.0         1.0          NaN  \n",
              "3   0,198306463               NaN              1.0         1.0          NaN  \n",
              "8   0,117699678               NaN              1.0         1.0          NaN  \n",
              "9   0,232948192               NaN              1.0         1.0          NaN  \n",
              "10  0,514403292               NaN              1.0         1.0  Influenza B  \n",
              "11  0,314386318               NaN              NaN         NaN          NaN  "
            ],
            "text/html": [
              "\n",
              "  <div id=\"df-47c75480-e5cd-470a-a33c-210a923ffe5f\">\n",
              "    <div class=\"colab-df-container\">\n",
              "      <div>\n",
              "<style scoped>\n",
              "    .dataframe tbody tr th:only-of-type {\n",
              "        vertical-align: middle;\n",
              "    }\n",
              "\n",
              "    .dataframe tbody tr th {\n",
              "        vertical-align: top;\n",
              "    }\n",
              "\n",
              "    .dataframe thead th {\n",
              "        text-align: right;\n",
              "    }\n",
              "</style>\n",
              "<table border=\"1\" class=\"dataframe\">\n",
              "  <thead>\n",
              "    <tr style=\"text-align: right;\">\n",
              "      <th></th>\n",
              "      <th>_classificacao</th>\n",
              "      <th>_comorb_cardio</th>\n",
              "      <th>_comorb_cromossomica</th>\n",
              "      <th>_comorb_diabetes</th>\n",
              "      <th>_comorb_hemato</th>\n",
              "      <th>_comorb_hepatica</th>\n",
              "      <th>_comorb_imuno</th>\n",
              "      <th>_comorb_neurologica</th>\n",
              "      <th>_comorb_obessidade</th>\n",
              "      <th>_comorb_renal</th>\n",
              "      <th>_comorb_respiratoria</th>\n",
              "      <th>_criterio</th>\n",
              "      <th>_idade</th>\n",
              "      <th>_gestante</th>\n",
              "      <th>_profiss_saude</th>\n",
              "      <th>_sexo</th>\n",
              "      <th>_sintoma_dispneia</th>\n",
              "      <th>_sintoma_febre</th>\n",
              "      <th>_sintoma_garganta</th>\n",
              "      <th>_sintoma_tosse</th>\n",
              "      <th>_bairro</th>\n",
              "      <th>_sintoma_olfato</th>\n",
              "      <th>_sintoma_paladar</th>\n",
              "      <th>_sintoma_outros</th>\n",
              "      <th>_srag</th>\n",
              "      <th>_taxa</th>\n",
              "      <th>_teste_anticorpo</th>\n",
              "      <th>_teste_antigeno</th>\n",
              "      <th>_teste_pcr</th>\n",
              "      <th>_srag_agente</th>\n",
              "    </tr>\n",
              "  </thead>\n",
              "  <tbody>\n",
              "    <tr>\n",
              "      <th>1</th>\n",
              "      <td>Confirmado</td>\n",
              "      <td>0</td>\n",
              "      <td>0</td>\n",
              "      <td>0</td>\n",
              "      <td>0</td>\n",
              "      <td>0</td>\n",
              "      <td>0</td>\n",
              "      <td>0</td>\n",
              "      <td>0</td>\n",
              "      <td>0</td>\n",
              "      <td>0</td>\n",
              "      <td>Laboratorial</td>\n",
              "      <td>26</td>\n",
              "      <td>0</td>\n",
              "      <td>0</td>\n",
              "      <td>F</td>\n",
              "      <td>1</td>\n",
              "      <td>1</td>\n",
              "      <td>1</td>\n",
              "      <td>1</td>\n",
              "      <td>TARUMA-ACU</td>\n",
              "      <td>0</td>\n",
              "      <td>0</td>\n",
              "      <td>1</td>\n",
              "      <td>SRAG por influenza</td>\n",
              "      <td>0,684931507</td>\n",
              "      <td>NaN</td>\n",
              "      <td>1.0</td>\n",
              "      <td>1.0</td>\n",
              "      <td>Influenza B</td>\n",
              "    </tr>\n",
              "    <tr>\n",
              "      <th>2</th>\n",
              "      <td>Descartado</td>\n",
              "      <td>0</td>\n",
              "      <td>0</td>\n",
              "      <td>0</td>\n",
              "      <td>0</td>\n",
              "      <td>0</td>\n",
              "      <td>0</td>\n",
              "      <td>0</td>\n",
              "      <td>0</td>\n",
              "      <td>0</td>\n",
              "      <td>0</td>\n",
              "      <td>Laboratorial</td>\n",
              "      <td>27</td>\n",
              "      <td>0</td>\n",
              "      <td>0</td>\n",
              "      <td>M</td>\n",
              "      <td>1</td>\n",
              "      <td>1</td>\n",
              "      <td>1</td>\n",
              "      <td>1</td>\n",
              "      <td>JORGE TEIXEIRA</td>\n",
              "      <td>0</td>\n",
              "      <td>0</td>\n",
              "      <td>1</td>\n",
              "      <td>SRAG não especificado</td>\n",
              "      <td>0,073137374</td>\n",
              "      <td>NaN</td>\n",
              "      <td>1.0</td>\n",
              "      <td>1.0</td>\n",
              "      <td>NaN</td>\n",
              "    </tr>\n",
              "    <tr>\n",
              "      <th>3</th>\n",
              "      <td>Descartado</td>\n",
              "      <td>0</td>\n",
              "      <td>0</td>\n",
              "      <td>0</td>\n",
              "      <td>0</td>\n",
              "      <td>0</td>\n",
              "      <td>0</td>\n",
              "      <td>0</td>\n",
              "      <td>0</td>\n",
              "      <td>0</td>\n",
              "      <td>0</td>\n",
              "      <td>Laboratorial</td>\n",
              "      <td>94</td>\n",
              "      <td>0</td>\n",
              "      <td>0</td>\n",
              "      <td>M</td>\n",
              "      <td>1</td>\n",
              "      <td>1</td>\n",
              "      <td>1</td>\n",
              "      <td>1</td>\n",
              "      <td>FLORES</td>\n",
              "      <td>0</td>\n",
              "      <td>0</td>\n",
              "      <td>1</td>\n",
              "      <td>SRAG não especificado</td>\n",
              "      <td>0,198306463</td>\n",
              "      <td>NaN</td>\n",
              "      <td>1.0</td>\n",
              "      <td>1.0</td>\n",
              "      <td>NaN</td>\n",
              "    </tr>\n",
              "    <tr>\n",
              "      <th>8</th>\n",
              "      <td>Descartado</td>\n",
              "      <td>0</td>\n",
              "      <td>0</td>\n",
              "      <td>0</td>\n",
              "      <td>0</td>\n",
              "      <td>0</td>\n",
              "      <td>0</td>\n",
              "      <td>0</td>\n",
              "      <td>0</td>\n",
              "      <td>0</td>\n",
              "      <td>0</td>\n",
              "      <td>Laboratorial</td>\n",
              "      <td>28</td>\n",
              "      <td>0</td>\n",
              "      <td>0</td>\n",
              "      <td>F</td>\n",
              "      <td>1</td>\n",
              "      <td>1</td>\n",
              "      <td>0</td>\n",
              "      <td>1</td>\n",
              "      <td>CIDADE DE DEUS</td>\n",
              "      <td>0</td>\n",
              "      <td>0</td>\n",
              "      <td>1</td>\n",
              "      <td>SRAG não especificado</td>\n",
              "      <td>0,117699678</td>\n",
              "      <td>NaN</td>\n",
              "      <td>1.0</td>\n",
              "      <td>1.0</td>\n",
              "      <td>NaN</td>\n",
              "    </tr>\n",
              "    <tr>\n",
              "      <th>9</th>\n",
              "      <td>Descartado</td>\n",
              "      <td>1</td>\n",
              "      <td>0</td>\n",
              "      <td>0</td>\n",
              "      <td>0</td>\n",
              "      <td>0</td>\n",
              "      <td>0</td>\n",
              "      <td>0</td>\n",
              "      <td>0</td>\n",
              "      <td>0</td>\n",
              "      <td>0</td>\n",
              "      <td>Laboratorial</td>\n",
              "      <td>80</td>\n",
              "      <td>0</td>\n",
              "      <td>0</td>\n",
              "      <td>M</td>\n",
              "      <td>1</td>\n",
              "      <td>1</td>\n",
              "      <td>0</td>\n",
              "      <td>1</td>\n",
              "      <td>PETROPOLIS</td>\n",
              "      <td>0</td>\n",
              "      <td>0</td>\n",
              "      <td>1</td>\n",
              "      <td>SRAG não especificado</td>\n",
              "      <td>0,232948192</td>\n",
              "      <td>NaN</td>\n",
              "      <td>1.0</td>\n",
              "      <td>1.0</td>\n",
              "      <td>NaN</td>\n",
              "    </tr>\n",
              "    <tr>\n",
              "      <th>10</th>\n",
              "      <td>Confirmado</td>\n",
              "      <td>1</td>\n",
              "      <td>0</td>\n",
              "      <td>1</td>\n",
              "      <td>0</td>\n",
              "      <td>0</td>\n",
              "      <td>0</td>\n",
              "      <td>0</td>\n",
              "      <td>0</td>\n",
              "      <td>0</td>\n",
              "      <td>1</td>\n",
              "      <td>Laboratorial</td>\n",
              "      <td>74</td>\n",
              "      <td>0</td>\n",
              "      <td>0</td>\n",
              "      <td>M</td>\n",
              "      <td>1</td>\n",
              "      <td>1</td>\n",
              "      <td>1</td>\n",
              "      <td>1</td>\n",
              "      <td>CACHOEIRINHA</td>\n",
              "      <td>0</td>\n",
              "      <td>0</td>\n",
              "      <td>1</td>\n",
              "      <td>SRAG por influenza</td>\n",
              "      <td>0,514403292</td>\n",
              "      <td>NaN</td>\n",
              "      <td>1.0</td>\n",
              "      <td>1.0</td>\n",
              "      <td>Influenza B</td>\n",
              "    </tr>\n",
              "    <tr>\n",
              "      <th>11</th>\n",
              "      <td>Descartado</td>\n",
              "      <td>0</td>\n",
              "      <td>0</td>\n",
              "      <td>0</td>\n",
              "      <td>0</td>\n",
              "      <td>0</td>\n",
              "      <td>0</td>\n",
              "      <td>0</td>\n",
              "      <td>0</td>\n",
              "      <td>0</td>\n",
              "      <td>0</td>\n",
              "      <td>Critério Clínico</td>\n",
              "      <td>23</td>\n",
              "      <td>1</td>\n",
              "      <td>0</td>\n",
              "      <td>F</td>\n",
              "      <td>0</td>\n",
              "      <td>1</td>\n",
              "      <td>1</td>\n",
              "      <td>1</td>\n",
              "      <td>SANTA ETELVINA</td>\n",
              "      <td>0</td>\n",
              "      <td>0</td>\n",
              "      <td>1</td>\n",
              "      <td>SRAG não especificado</td>\n",
              "      <td>0,314386318</td>\n",
              "      <td>NaN</td>\n",
              "      <td>NaN</td>\n",
              "      <td>NaN</td>\n",
              "      <td>NaN</td>\n",
              "    </tr>\n",
              "  </tbody>\n",
              "</table>\n",
              "</div>\n",
              "      <button class=\"colab-df-convert\" onclick=\"convertToInteractive('df-47c75480-e5cd-470a-a33c-210a923ffe5f')\"\n",
              "              title=\"Convert this dataframe to an interactive table.\"\n",
              "              style=\"display:none;\">\n",
              "        \n",
              "  <svg xmlns=\"http://www.w3.org/2000/svg\" height=\"24px\"viewBox=\"0 0 24 24\"\n",
              "       width=\"24px\">\n",
              "    <path d=\"M0 0h24v24H0V0z\" fill=\"none\"/>\n",
              "    <path d=\"M18.56 5.44l.94 2.06.94-2.06 2.06-.94-2.06-.94-.94-2.06-.94 2.06-2.06.94zm-11 1L8.5 8.5l.94-2.06 2.06-.94-2.06-.94L8.5 2.5l-.94 2.06-2.06.94zm10 10l.94 2.06.94-2.06 2.06-.94-2.06-.94-.94-2.06-.94 2.06-2.06.94z\"/><path d=\"M17.41 7.96l-1.37-1.37c-.4-.4-.92-.59-1.43-.59-.52 0-1.04.2-1.43.59L10.3 9.45l-7.72 7.72c-.78.78-.78 2.05 0 2.83L4 21.41c.39.39.9.59 1.41.59.51 0 1.02-.2 1.41-.59l7.78-7.78 2.81-2.81c.8-.78.8-2.07 0-2.86zM5.41 20L4 18.59l7.72-7.72 1.47 1.35L5.41 20z\"/>\n",
              "  </svg>\n",
              "      </button>\n",
              "      \n",
              "  <style>\n",
              "    .colab-df-container {\n",
              "      display:flex;\n",
              "      flex-wrap:wrap;\n",
              "      gap: 12px;\n",
              "    }\n",
              "\n",
              "    .colab-df-convert {\n",
              "      background-color: #E8F0FE;\n",
              "      border: none;\n",
              "      border-radius: 50%;\n",
              "      cursor: pointer;\n",
              "      display: none;\n",
              "      fill: #1967D2;\n",
              "      height: 32px;\n",
              "      padding: 0 0 0 0;\n",
              "      width: 32px;\n",
              "    }\n",
              "\n",
              "    .colab-df-convert:hover {\n",
              "      background-color: #E2EBFA;\n",
              "      box-shadow: 0px 1px 2px rgba(60, 64, 67, 0.3), 0px 1px 3px 1px rgba(60, 64, 67, 0.15);\n",
              "      fill: #174EA6;\n",
              "    }\n",
              "\n",
              "    [theme=dark] .colab-df-convert {\n",
              "      background-color: #3B4455;\n",
              "      fill: #D2E3FC;\n",
              "    }\n",
              "\n",
              "    [theme=dark] .colab-df-convert:hover {\n",
              "      background-color: #434B5C;\n",
              "      box-shadow: 0px 1px 3px 1px rgba(0, 0, 0, 0.15);\n",
              "      filter: drop-shadow(0px 1px 2px rgba(0, 0, 0, 0.3));\n",
              "      fill: #FFFFFF;\n",
              "    }\n",
              "  </style>\n",
              "\n",
              "      <script>\n",
              "        const buttonEl =\n",
              "          document.querySelector('#df-47c75480-e5cd-470a-a33c-210a923ffe5f button.colab-df-convert');\n",
              "        buttonEl.style.display =\n",
              "          google.colab.kernel.accessAllowed ? 'block' : 'none';\n",
              "\n",
              "        async function convertToInteractive(key) {\n",
              "          const element = document.querySelector('#df-47c75480-e5cd-470a-a33c-210a923ffe5f');\n",
              "          const dataTable =\n",
              "            await google.colab.kernel.invokeFunction('convertToInteractive',\n",
              "                                                     [key], {});\n",
              "          if (!dataTable) return;\n",
              "\n",
              "          const docLinkHtml = 'Like what you see? Visit the ' +\n",
              "            '<a target=\"_blank\" href=https://colab.research.google.com/notebooks/data_table.ipynb>data table notebook</a>'\n",
              "            + ' to learn more about interactive tables.';\n",
              "          element.innerHTML = '';\n",
              "          dataTable['output_type'] = 'display_data';\n",
              "          await google.colab.output.renderOutput(dataTable, element);\n",
              "          const docLink = document.createElement('div');\n",
              "          docLink.innerHTML = docLinkHtml;\n",
              "          element.appendChild(docLink);\n",
              "        }\n",
              "      </script>\n",
              "    </div>\n",
              "  </div>\n",
              "  "
            ]
          },
          "metadata": {},
          "execution_count": 161
        }
      ]
    },
    {
      "cell_type": "code",
      "source": [
        "df_am['grupo_de_risco'] = df_am['_idade'].apply(lambda x: 1 if (x >= 60) else 0)"
      ],
      "metadata": {
        "id": "Onq6VwIMGdcm"
      },
      "execution_count": 162,
      "outputs": []
    },
    {
      "cell_type": "code",
      "source": [
        "ax = sn.boxplot(x = '_idade', y ='_classificacao', data = df_am.loc[df_am['_profiss_saude']==1], orient='h', hue='_criterio')\n",
        "ax.figure.set_size_inches(12, 4)\n",
        "ax.set_title('Classificação em relação a profissionais da saúde', fontsize=18)\n",
        "ax.set_ylabel('Classificação', fontsize=14)\n",
        "ax.set_xlabel('Idade', fontsize=14)\n",
        "ax"
      ],
      "metadata": {
        "id": "bb_elk3Ffy5O",
        "outputId": "ee40bec1-4654-40f6-9f1a-afc8919e3738",
        "colab": {
          "base_uri": "https://localhost:8080/",
          "height": 322
        }
      },
      "execution_count": 163,
      "outputs": [
        {
          "output_type": "execute_result",
          "data": {
            "text/plain": [
              "<matplotlib.axes._subplots.AxesSubplot at 0x7f8170040890>"
            ]
          },
          "metadata": {},
          "execution_count": 163
        },
        {
          "output_type": "display_data",
          "data": {
            "text/plain": [
              "<Figure size 864x288 with 1 Axes>"
            ],
            "image/png": "[encoded data removed]"
          },
          "metadata": {
            "needs_background": "light"
          }
        }
      ]
    },
    {
      "cell_type": "code",
      "source": [
        "ax = sn.boxplot(x = '_idade', y ='_classificacao', data = df_am, orient='h', hue='_comorb_obessidade')\n",
        "ax.figure.set_size_inches(12, 4)\n",
        "ax.set_title('Classificação por comorbidade: Obesidade', fontsize=18)\n",
        "ax.set_ylabel('Classificação', fontsize=14)\n",
        "ax.set_xlabel('Idade', fontsize=14)\n",
        "ax"
      ],
      "metadata": {
        "id": "DznAFixid2ZG",
        "outputId": "0fb675eb-580c-42b9-b760-55905c71150f",
        "colab": {
          "base_uri": "https://localhost:8080/",
          "height": 321
        }
      },
      "execution_count": 164,
      "outputs": [
        {
          "output_type": "execute_result",
          "data": {
            "text/plain": [
              "<matplotlib.axes._subplots.AxesSubplot at 0x7f816ff0f090>"
            ]
          },
          "metadata": {},
          "execution_count": 164
        },
        {
          "output_type": "display_data",
          "data": {
            "text/plain": [
              "<Figure size 864x288 with 1 Axes>"
            ],
            "image/png": "[encoded data removed]"
          },
          "metadata": {
            "needs_background": "light"
          }
        }
      ]
    },
    {
      "cell_type": "code",
      "source": [
        "ax = sn.boxplot(x = '_idade', y ='_classificacao', data = df_am, orient='h', hue='_comorb_cardio')\n",
        "ax.figure.set_size_inches(12, 4)\n",
        "ax.set_title('Classificação por comorbidade: Cardiovascular', fontsize=18)\n",
        "ax.set_ylabel('Classificação', fontsize=14)\n",
        "ax.set_xlabel('Idade', fontsize=14)\n",
        "ax"
      ],
      "metadata": {
        "id": "unmTuKtsfMYN",
        "outputId": "6f52440c-d09a-451b-90c7-14046e4d2d83",
        "colab": {
          "base_uri": "https://localhost:8080/",
          "height": 321
        }
      },
      "execution_count": 165,
      "outputs": [
        {
          "output_type": "execute_result",
          "data": {
            "text/plain": [
              "<matplotlib.axes._subplots.AxesSubplot at 0x7f816fdeaad0>"
            ]
          },
          "metadata": {},
          "execution_count": 165
        },
        {
          "output_type": "display_data",
          "data": {
            "text/plain": [
              "<Figure size 864x288 with 1 Axes>"
            ],
            "image/png": "[encoded data removed]"
          },
          "metadata": {
            "needs_background": "light"
          }
        }
      ]
    },
    {
      "cell_type": "code",
      "source": [
        "ax = sn.boxplot(x = '_idade', y ='_classificacao', data = df_am, orient='h', hue='_comorb_diabetes')\n",
        "ax.figure.set_size_inches(12, 4)\n",
        "ax.set_title('Classificação por comorbidade: Diabete', fontsize=18)\n",
        "ax.set_ylabel('Classificação', fontsize=14)\n",
        "ax.set_xlabel('Idade', fontsize=14)\n",
        "ax"
      ],
      "metadata": {
        "id": "sT6brVLlfjHg",
        "outputId": "ccf4dd2a-2ec5-42ce-ab56-962e86465ec0",
        "colab": {
          "base_uri": "https://localhost:8080/",
          "height": 321
        }
      },
      "execution_count": 166,
      "outputs": [
        {
          "output_type": "execute_result",
          "data": {
            "text/plain": [
              "<matplotlib.axes._subplots.AxesSubplot at 0x7f816fdd7550>"
            ]
          },
          "metadata": {},
          "execution_count": 166
        },
        {
          "output_type": "display_data",
          "data": {
            "text/plain": [
              "<Figure size 864x288 with 1 Axes>"
            ],
            "image/png": "[encoded data removed]"
          },
          "metadata": {
            "needs_background": "light"
          }
        }
      ]
    },
    {
      "cell_type": "code",
      "source": [
        "df_am['_criterio'].value_counts(), df_am['_criterio'].isnull().sum()"
      ],
      "metadata": {
        "id": "Y9r-Q5J1cVkd",
        "outputId": "713972a9-7f35-4bc3-f898-677b665ecde6",
        "colab": {
          "base_uri": "https://localhost:8080/"
        }
      },
      "execution_count": 167,
      "outputs": [
        {
          "output_type": "execute_result",
          "data": {
            "text/plain": [
              "(Laboratorial              101300\n",
              " Critério Clínico           12703\n",
              " Clínico-Epidemiológico      4699\n",
              " Clínico-Imagem              4077\n",
              " Name: _criterio, dtype: int64, 448277)"
            ]
          },
          "metadata": {},
          "execution_count": 167
        }
      ]
    },
    {
      "cell_type": "code",
      "source": [
        "df_am[['_classificacao','_criterio','_bairro','_srag','_srag_agente']] = df_am[['_classificacao','_criterio','_bairro','_srag','_srag_agente']].astype('category').apply(lambda x: x.cat.codes)"
      ],
      "metadata": {
        "id": "K9B-ObawbXTf"
      },
      "execution_count": 168,
      "outputs": []
    },
    {
      "cell_type": "code",
      "source": [
        "df_am.head()"
      ],
      "metadata": {
        "id": "u546wqzObQhw",
        "outputId": "0cd265a5-3736-48a0-d42f-201a944706ce",
        "colab": {
          "base_uri": "https://localhost:8080/",
          "height": 270
        }
      },
      "execution_count": 169,
      "outputs": [
        {
          "output_type": "execute_result",
          "data": {
            "text/plain": [
              "   _classificacao  _comorb_cardio  _comorb_cromossomica  _comorb_diabetes  \\\n",
              "1               0               0                     0                 0   \n",
              "2               1               0                     0                 0   \n",
              "3               1               0                     0                 0   \n",
              "8               1               0                     0                 0   \n",
              "9               1               1                     0                 0   \n",
              "\n",
              "   _comorb_hemato  _comorb_hepatica  _comorb_imuno  _comorb_neurologica  \\\n",
              "1               0                 0              0                    0   \n",
              "2               0                 0              0                    0   \n",
              "3               0                 0              0                    0   \n",
              "8               0                 0              0                    0   \n",
              "9               0                 0              0                    0   \n",
              "\n",
              "   _comorb_obessidade  _comorb_renal  _comorb_respiratoria  _criterio  _idade  \\\n",
              "1                   0              0                     0          3      26   \n",
              "2                   0              0                     0          3      27   \n",
              "3                   0              0                     0          3      94   \n",
              "8                   0              0                     0          3      28   \n",
              "9                   0              0                     0          3      80   \n",
              "\n",
              "   _gestante  _profiss_saude _sexo  _sintoma_dispneia  _sintoma_febre  \\\n",
              "1          0               0     F                  1               1   \n",
              "2          0               0     M                  1               1   \n",
              "3          0               0     M                  1               1   \n",
              "8          0               0     F                  1               1   \n",
              "9          0               0     M                  1               1   \n",
              "\n",
              "   _sintoma_garganta  _sintoma_tosse  _bairro  _sintoma_olfato  \\\n",
              "1                  1               1    11089                0   \n",
              "2                  1               1     5622                0   \n",
              "3                  1               1     4813                0   \n",
              "8                  0               1     2111                0   \n",
              "9                  0               1     8665                0   \n",
              "\n",
              "   _sintoma_paladar  _sintoma_outros  _srag        _taxa  _teste_anticorpo  \\\n",
              "1                 0                1      2  0,684931507               NaN   \n",
              "2                 0                1      0  0,073137374               NaN   \n",
              "3                 0                1      0  0,198306463               NaN   \n",
              "8                 0                1      0  0,117699678               NaN   \n",
              "9                 0                1      0  0,232948192               NaN   \n",
              "\n",
              "   _teste_antigeno  _teste_pcr  _srag_agente  grupo_de_risco  \n",
              "1              1.0         1.0             3               0  \n",
              "2              1.0         1.0            -1               0  \n",
              "3              1.0         1.0            -1               1  \n",
              "8              1.0         1.0            -1               0  \n",
              "9              1.0         1.0            -1               1  "
            ],
            "text/html": [
              "\n",
              "  <div id=\"df-d28409b0-2b8e-4a39-9152-c64ba2d7b1ff\">\n",
              "    <div class=\"colab-df-container\">\n",
              "      <div>\n",
              "<style scoped>\n",
              "    .dataframe tbody tr th:only-of-type {\n",
              "        vertical-align: middle;\n",
              "    }\n",
              "\n",
              "    .dataframe tbody tr th {\n",
              "        vertical-align: top;\n",
              "    }\n",
              "\n",
              "    .dataframe thead th {\n",
              "        text-align: right;\n",
              "    }\n",
              "</style>\n",
              "<table border=\"1\" class=\"dataframe\">\n",
              "  <thead>\n",
              "    <tr style=\"text-align: right;\">\n",
              "      <th></th>\n",
              "      <th>_classificacao</th>\n",
              "      <th>_comorb_cardio</th>\n",
              "      <th>_comorb_cromossomica</th>\n",
              "      <th>_comorb_diabetes</th>\n",
              "      <th>_comorb_hemato</th>\n",
              "      <th>_comorb_hepatica</th>\n",
              "      <th>_comorb_imuno</th>\n",
              "      <th>_comorb_neurologica</th>\n",
              "      <th>_comorb_obessidade</th>\n",
              "      <th>_comorb_renal</th>\n",
              "      <th>_comorb_respiratoria</th>\n",
              "      <th>_criterio</th>\n",
              "      <th>_idade</th>\n",
              "      <th>_gestante</th>\n",
              "      <th>_profiss_saude</th>\n",
              "      <th>_sexo</th>\n",
              "      <th>_sintoma_dispneia</th>\n",
              "      <th>_sintoma_febre</th>\n",
              "      <th>_sintoma_garganta</th>\n",
              "      <th>_sintoma_tosse</th>\n",
              "      <th>_bairro</th>\n",
              "      <th>_sintoma_olfato</th>\n",
              "      <th>_sintoma_paladar</th>\n",
              "      <th>_sintoma_outros</th>\n",
              "      <th>_srag</th>\n",
              "      <th>_taxa</th>\n",
              "      <th>_teste_anticorpo</th>\n",
              "      <th>_teste_antigeno</th>\n",
              "      <th>_teste_pcr</th>\n",
              "      <th>_srag_agente</th>\n",
              "      <th>grupo_de_risco</th>\n",
              "    </tr>\n",
              "  </thead>\n",
              "  <tbody>\n",
              "    <tr>\n",
              "      <th>1</th>\n",
              "      <td>0</td>\n",
              "      <td>0</td>\n",
              "      <td>0</td>\n",
              "      <td>0</td>\n",
              "      <td>0</td>\n",
              "      <td>0</td>\n",
              "      <td>0</td>\n",
              "      <td>0</td>\n",
              "      <td>0</td>\n",
              "      <td>0</td>\n",
              "      <td>0</td>\n",
              "      <td>3</td>\n",
              "      <td>26</td>\n",
              "      <td>0</td>\n",
              "      <td>0</td>\n",
              "      <td>F</td>\n",
              "      <td>1</td>\n",
              "      <td>1</td>\n",
              "      <td>1</td>\n",
              "      <td>1</td>\n",
              "      <td>11089</td>\n",
              "      <td>0</td>\n",
              "      <td>0</td>\n",
              "      <td>1</td>\n",
              "      <td>2</td>\n",
              "      <td>0,684931507</td>\n",
              "      <td>NaN</td>\n",
              "      <td>1.0</td>\n",
              "      <td>1.0</td>\n",
              "      <td>3</td>\n",
              "      <td>0</td>\n",
              "    </tr>\n",
              "    <tr>\n",
              "      <th>2</th>\n",
              "      <td>1</td>\n",
              "      <td>0</td>\n",
              "      <td>0</td>\n",
              "      <td>0</td>\n",
              "      <td>0</td>\n",
              "      <td>0</td>\n",
              "      <td>0</td>\n",
              "      <td>0</td>\n",
              "      <td>0</td>\n",
              "      <td>0</td>\n",
              "      <td>0</td>\n",
              "      <td>3</td>\n",
              "      <td>27</td>\n",
              "      <td>0</td>\n",
              "      <td>0</td>\n",
              "      <td>M</td>\n",
              "      <td>1</td>\n",
              "      <td>1</td>\n",
              "      <td>1</td>\n",
              "      <td>1</td>\n",
              "      <td>5622</td>\n",
              "      <td>0</td>\n",
              "      <td>0</td>\n",
              "      <td>1</td>\n",
              "      <td>0</td>\n",
              "      <td>0,073137374</td>\n",
              "      <td>NaN</td>\n",
              "      <td>1.0</td>\n",
              "      <td>1.0</td>\n",
              "      <td>-1</td>\n",
              "      <td>0</td>\n",
              "    </tr>\n",
              "    <tr>\n",
              "      <th>3</th>\n",
              "      <td>1</td>\n",
              "      <td>0</td>\n",
              "      <td>0</td>\n",
              "      <td>0</td>\n",
              "      <td>0</td>\n",
              "      <td>0</td>\n",
              "      <td>0</td>\n",
              "      <td>0</td>\n",
              "      <td>0</td>\n",
              "      <td>0</td>\n",
              "      <td>0</td>\n",
              "      <td>3</td>\n",
              "      <td>94</td>\n",
              "      <td>0</td>\n",
              "      <td>0</td>\n",
              "      <td>M</td>\n",
              "      <td>1</td>\n",
              "      <td>1</td>\n",
              "      <td>1</td>\n",
              "      <td>1</td>\n",
              "      <td>4813</td>\n",
              "      <td>0</td>\n",
              "      <td>0</td>\n",
              "      <td>1</td>\n",
              "      <td>0</td>\n",
              "      <td>0,198306463</td>\n",
              "      <td>NaN</td>\n",
              "      <td>1.0</td>\n",
              "      <td>1.0</td>\n",
              "      <td>-1</td>\n",
              "      <td>1</td>\n",
              "    </tr>\n",
              "    <tr>\n",
              "      <th>8</th>\n",
              "      <td>1</td>\n",
              "      <td>0</td>\n",
              "      <td>0</td>\n",
              "      <td>0</td>\n",
              "      <td>0</td>\n",
              "      <td>0</td>\n",
              "      <td>0</td>\n",
              "      <td>0</td>\n",
              "      <td>0</td>\n",
              "      <td>0</td>\n",
              "      <td>0</td>\n",
              "      <td>3</td>\n",
              "      <td>28</td>\n",
              "      <td>0</td>\n",
              "      <td>0</td>\n",
              "      <td>F</td>\n",
              "      <td>1</td>\n",
              "      <td>1</td>\n",
              "      <td>0</td>\n",
              "      <td>1</td>\n",
              "      <td>2111</td>\n",
              "      <td>0</td>\n",
              "      <td>0</td>\n",
              "      <td>1</td>\n",
              "      <td>0</td>\n",
              "      <td>0,117699678</td>\n",
              "      <td>NaN</td>\n",
              "      <td>1.0</td>\n",
              "      <td>1.0</td>\n",
              "      <td>-1</td>\n",
              "      <td>0</td>\n",
              "    </tr>\n",
              "    <tr>\n",
              "      <th>9</th>\n",
              "      <td>1</td>\n",
              "      <td>1</td>\n",
              "      <td>0</td>\n",
              "      <td>0</td>\n",
              "      <td>0</td>\n",
              "      <td>0</td>\n",
              "      <td>0</td>\n",
              "      <td>0</td>\n",
              "      <td>0</td>\n",
              "      <td>0</td>\n",
              "      <td>0</td>\n",
              "      <td>3</td>\n",
              "      <td>80</td>\n",
              "      <td>0</td>\n",
              "      <td>0</td>\n",
              "      <td>M</td>\n",
              "      <td>1</td>\n",
              "      <td>1</td>\n",
              "      <td>0</td>\n",
              "      <td>1</td>\n",
              "      <td>8665</td>\n",
              "      <td>0</td>\n",
              "      <td>0</td>\n",
              "      <td>1</td>\n",
              "      <td>0</td>\n",
              "      <td>0,232948192</td>\n",
              "      <td>NaN</td>\n",
              "      <td>1.0</td>\n",
              "      <td>1.0</td>\n",
              "      <td>-1</td>\n",
              "      <td>1</td>\n",
              "    </tr>\n",
              "  </tbody>\n",
              "</table>\n",
              "</div>\n",
              "      <button class=\"colab-df-convert\" onclick=\"convertToInteractive('df-d28409b0-2b8e-4a39-9152-c64ba2d7b1ff')\"\n",
              "              title=\"Convert this dataframe to an interactive table.\"\n",
              "              style=\"display:none;\">\n",
              "        \n",
              "  <svg xmlns=\"http://www.w3.org/2000/svg\" height=\"24px\"viewBox=\"0 0 24 24\"\n",
              "       width=\"24px\">\n",
              "    <path d=\"M0 0h24v24H0V0z\" fill=\"none\"/>\n",
              "    <path d=\"M18.56 5.44l.94 2.06.94-2.06 2.06-.94-2.06-.94-.94-2.06-.94 2.06-2.06.94zm-11 1L8.5 8.5l.94-2.06 2.06-.94-2.06-.94L8.5 2.5l-.94 2.06-2.06.94zm10 10l.94 2.06.94-2.06 2.06-.94-2.06-.94-.94-2.06-.94 2.06-2.06.94z\"/><path d=\"M17.41 7.96l-1.37-1.37c-.4-.4-.92-.59-1.43-.59-.52 0-1.04.2-1.43.59L10.3 9.45l-7.72 7.72c-.78.78-.78 2.05 0 2.83L4 21.41c.39.39.9.59 1.41.59.51 0 1.02-.2 1.41-.59l7.78-7.78 2.81-2.81c.8-.78.8-2.07 0-2.86zM5.41 20L4 18.59l7.72-7.72 1.47 1.35L5.41 20z\"/>\n",
              "  </svg>\n",
              "      </button>\n",
              "      \n",
              "  <style>\n",
              "    .colab-df-container {\n",
              "      display:flex;\n",
              "      flex-wrap:wrap;\n",
              "      gap: 12px;\n",
              "    }\n",
              "\n",
              "    .colab-df-convert {\n",
              "      background-color: #E8F0FE;\n",
              "      border: none;\n",
              "      border-radius: 50%;\n",
              "      cursor: pointer;\n",
              "      display: none;\n",
              "      fill: #1967D2;\n",
              "      height: 32px;\n",
              "      padding: 0 0 0 0;\n",
              "      width: 32px;\n",
              "    }\n",
              "\n",
              "    .colab-df-convert:hover {\n",
              "      background-color: #E2EBFA;\n",
              "      box-shadow: 0px 1px 2px rgba(60, 64, 67, 0.3), 0px 1px 3px 1px rgba(60, 64, 67, 0.15);\n",
              "      fill: #174EA6;\n",
              "    }\n",
              "\n",
              "    [theme=dark] .colab-df-convert {\n",
              "      background-color: #3B4455;\n",
              "      fill: #D2E3FC;\n",
              "    }\n",
              "\n",
              "    [theme=dark] .colab-df-convert:hover {\n",
              "      background-color: #434B5C;\n",
              "      box-shadow: 0px 1px 3px 1px rgba(0, 0, 0, 0.15);\n",
              "      filter: drop-shadow(0px 1px 2px rgba(0, 0, 0, 0.3));\n",
              "      fill: #FFFFFF;\n",
              "    }\n",
              "  </style>\n",
              "\n",
              "      <script>\n",
              "        const buttonEl =\n",
              "          document.querySelector('#df-d28409b0-2b8e-4a39-9152-c64ba2d7b1ff button.colab-df-convert');\n",
              "        buttonEl.style.display =\n",
              "          google.colab.kernel.accessAllowed ? 'block' : 'none';\n",
              "\n",
              "        async function convertToInteractive(key) {\n",
              "          const element = document.querySelector('#df-d28409b0-2b8e-4a39-9152-c64ba2d7b1ff');\n",
              "          const dataTable =\n",
              "            await google.colab.kernel.invokeFunction('convertToInteractive',\n",
              "                                                     [key], {});\n",
              "          if (!dataTable) return;\n",
              "\n",
              "          const docLinkHtml = 'Like what you see? Visit the ' +\n",
              "            '<a target=\"_blank\" href=https://colab.research.google.com/notebooks/data_table.ipynb>data table notebook</a>'\n",
              "            + ' to learn more about interactive tables.';\n",
              "          element.innerHTML = '';\n",
              "          dataTable['output_type'] = 'display_data';\n",
              "          await google.colab.output.renderOutput(dataTable, element);\n",
              "          const docLink = document.createElement('div');\n",
              "          docLink.innerHTML = docLinkHtml;\n",
              "          element.appendChild(docLink);\n",
              "        }\n",
              "      </script>\n",
              "    </div>\n",
              "  </div>\n",
              "  "
            ]
          },
          "metadata": {},
          "execution_count": 169
        }
      ]
    }
  ]
}