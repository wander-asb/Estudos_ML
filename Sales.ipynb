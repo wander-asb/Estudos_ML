{
  "nbformat": 4,
  "nbformat_minor": 0,
  "metadata": {
    "colab": {
      "name": "Sales.ipynb",
      "provenance": [],
      "collapsed_sections": [],
      "toc_visible": true,
      "authorship_tag": "ABX9TyNt1xO2NiAn97PxHqtSaS5q"
    },
    "kernelspec": {
      "name": "python3",
      "display_name": "Python 3"
    },
    "language_info": {
      "name": "python"
    }
  },
  "cells": [
    {
      "cell_type": "markdown",
      "source": [
        "### 1.0 Leitura e importação \n"
      ],
      "metadata": {
        "id": "PSKs6Y2kOPx3"
      }
    },
    {
      "cell_type": "code",
      "execution_count": 77,
      "metadata": {
        "id": "u0mHdQ3Bb89q"
      },
      "outputs": [],
      "source": [
        "import pandas as pd\n",
        "import numpy as np\n",
        "import seaborn as sn\n",
        "import matplotlib.pyplot as plt"
      ]
    },
    {
      "cell_type": "code",
      "source": [
        "df = pd.read_excel('https://query.data.world/s/jzwtbulr4ojqodlk45rmuvgrxfcgxo')"
      ],
      "metadata": {
        "id": "jcRRqQSkcNp0"
      },
      "execution_count": 39,
      "outputs": []
    },
    {
      "cell_type": "code",
      "source": [
        "df = df.rename(columns = {\n",
        "    'Sales Channel'\t:'CANAL_VENDA',\n",
        "    'OrderDate'\t:'DATA_PEDIDO',\n",
        "    'ShipDate' :'DATA_ENVIO',\n",
        "    'DeliveryDate' :'DATA_ENTREGA',\n",
        "    'ProcuredDate' :'DATA_ADQUIRIDA',\n",
        "    '_StoreID' :'ID_LOJA',\n",
        "    '_ProductID' :'ID_PRODUTO',\n",
        "    'Order Quantity' :'QTD_PRODUTO',\n",
        "    'Discount Applied' :'DESCONTO',\n",
        "    'Unit Price' :'PRECO_UNICO',\n",
        "    'Unit Cost' :'CUSTO_UNICO'\n",
        "}\n",
        ")"
      ],
      "metadata": {
        "id": "5NtNtPyn8K6f"
      },
      "execution_count": 40,
      "outputs": []
    },
    {
      "cell_type": "markdown",
      "source": [
        "### 2.0 Tratamento de dados"
      ],
      "metadata": {
        "id": "KdEYhkOsOH7S"
      }
    },
    {
      "cell_type": "code",
      "source": [
        "df = df.drop(df[['OrderNumber','WarehouseCode','CurrencyCode','_SalesTeamID','_CustomerID']], axis=1)"
      ],
      "metadata": {
        "id": "uiVLJhdnAiyD"
      },
      "execution_count": 41,
      "outputs": []
    },
    {
      "cell_type": "code",
      "source": [
        "df.isnull().sum()"
      ],
      "metadata": {
        "colab": {
          "base_uri": "https://localhost:8080/"
        },
        "id": "05MV6--p8RkP",
        "outputId": "fa965f7f-1ce7-4aa2-c81e-bf24ebe3dab0"
      },
      "execution_count": 42,
      "outputs": [
        {
          "output_type": "execute_result",
          "data": {
            "text/plain": [
              "CANAL_VENDA       0\n",
              "DATA_ADQUIRIDA    0\n",
              "DATA_PEDIDO       0\n",
              "DATA_ENVIO        0\n",
              "DATA_ENTREGA      0\n",
              "ID_LOJA           0\n",
              "ID_PRODUTO        0\n",
              "QTD_PRODUTO       0\n",
              "DESCONTO          0\n",
              "PRECO_UNICO       0\n",
              "CUSTO_UNICO       0\n",
              "dtype: int64"
            ]
          },
          "metadata": {},
          "execution_count": 42
        }
      ]
    },
    {
      "cell_type": "code",
      "source": [
        "df.info()"
      ],
      "metadata": {
        "colab": {
          "base_uri": "https://localhost:8080/"
        },
        "id": "2tnrbuKNDs8K",
        "outputId": "d0739ef6-9803-4a16-b6a6-09226cdb217f"
      },
      "execution_count": 43,
      "outputs": [
        {
          "output_type": "stream",
          "name": "stdout",
          "text": [
            "<class 'pandas.core.frame.DataFrame'>\n",
            "RangeIndex: 7991 entries, 0 to 7990\n",
            "Data columns (total 11 columns):\n",
            " #   Column          Non-Null Count  Dtype         \n",
            "---  ------          --------------  -----         \n",
            " 0   CANAL_VENDA     7991 non-null   object        \n",
            " 1   DATA_ADQUIRIDA  7991 non-null   datetime64[ns]\n",
            " 2   DATA_PEDIDO     7991 non-null   datetime64[ns]\n",
            " 3   DATA_ENVIO      7991 non-null   datetime64[ns]\n",
            " 4   DATA_ENTREGA    7991 non-null   datetime64[ns]\n",
            " 5   ID_LOJA         7991 non-null   int64         \n",
            " 6   ID_PRODUTO      7991 non-null   int64         \n",
            " 7   QTD_PRODUTO     7991 non-null   int64         \n",
            " 8   DESCONTO        7991 non-null   float64       \n",
            " 9   PRECO_UNICO     7991 non-null   float64       \n",
            " 10  CUSTO_UNICO     7991 non-null   float64       \n",
            "dtypes: datetime64[ns](4), float64(3), int64(3), object(1)\n",
            "memory usage: 686.9+ KB\n"
          ]
        }
      ]
    },
    {
      "cell_type": "code",
      "source": [
        "df.head()"
      ],
      "metadata": {
        "colab": {
          "base_uri": "https://localhost:8080/",
          "height": 206
        },
        "id": "5RZdGOYs8VCI",
        "outputId": "1b13bf87-8978-4597-d1ea-c0a7fa9555a4"
      },
      "execution_count": 44,
      "outputs": [
        {
          "output_type": "execute_result",
          "data": {
            "text/html": [
              "\n",
              "  <div id=\"df-606b49b9-e819-4a7a-9936-f31c5db75679\">\n",
              "    <div class=\"colab-df-container\">\n",
              "      <div>\n",
              "<style scoped>\n",
              "    .dataframe tbody tr th:only-of-type {\n",
              "        vertical-align: middle;\n",
              "    }\n",
              "\n",
              "    .dataframe tbody tr th {\n",
              "        vertical-align: top;\n",
              "    }\n",
              "\n",
              "    .dataframe thead th {\n",
              "        text-align: right;\n",
              "    }\n",
              "</style>\n",
              "<table border=\"1\" class=\"dataframe\">\n",
              "  <thead>\n",
              "    <tr style=\"text-align: right;\">\n",
              "      <th></th>\n",
              "      <th>CANAL_VENDA</th>\n",
              "      <th>DATA_ADQUIRIDA</th>\n",
              "      <th>DATA_PEDIDO</th>\n",
              "      <th>DATA_ENVIO</th>\n",
              "      <th>DATA_ENTREGA</th>\n",
              "      <th>ID_LOJA</th>\n",
              "      <th>ID_PRODUTO</th>\n",
              "      <th>QTD_PRODUTO</th>\n",
              "      <th>DESCONTO</th>\n",
              "      <th>PRECO_UNICO</th>\n",
              "      <th>CUSTO_UNICO</th>\n",
              "    </tr>\n",
              "  </thead>\n",
              "  <tbody>\n",
              "    <tr>\n",
              "      <th>0</th>\n",
              "      <td>In-Store</td>\n",
              "      <td>2017-12-31</td>\n",
              "      <td>2018-05-31</td>\n",
              "      <td>2018-06-14</td>\n",
              "      <td>2018-06-19</td>\n",
              "      <td>259</td>\n",
              "      <td>12</td>\n",
              "      <td>5</td>\n",
              "      <td>0.075</td>\n",
              "      <td>1963.1</td>\n",
              "      <td>1001.181</td>\n",
              "    </tr>\n",
              "    <tr>\n",
              "      <th>1</th>\n",
              "      <td>Online</td>\n",
              "      <td>2017-12-31</td>\n",
              "      <td>2018-05-31</td>\n",
              "      <td>2018-06-22</td>\n",
              "      <td>2018-07-02</td>\n",
              "      <td>196</td>\n",
              "      <td>27</td>\n",
              "      <td>3</td>\n",
              "      <td>0.075</td>\n",
              "      <td>3939.6</td>\n",
              "      <td>3348.660</td>\n",
              "    </tr>\n",
              "    <tr>\n",
              "      <th>2</th>\n",
              "      <td>Distributor</td>\n",
              "      <td>2017-12-31</td>\n",
              "      <td>2018-05-31</td>\n",
              "      <td>2018-06-21</td>\n",
              "      <td>2018-07-01</td>\n",
              "      <td>213</td>\n",
              "      <td>16</td>\n",
              "      <td>1</td>\n",
              "      <td>0.050</td>\n",
              "      <td>1775.5</td>\n",
              "      <td>781.220</td>\n",
              "    </tr>\n",
              "    <tr>\n",
              "      <th>3</th>\n",
              "      <td>Wholesale</td>\n",
              "      <td>2017-12-31</td>\n",
              "      <td>2018-05-31</td>\n",
              "      <td>2018-06-02</td>\n",
              "      <td>2018-06-07</td>\n",
              "      <td>107</td>\n",
              "      <td>23</td>\n",
              "      <td>8</td>\n",
              "      <td>0.075</td>\n",
              "      <td>2324.9</td>\n",
              "      <td>1464.687</td>\n",
              "    </tr>\n",
              "    <tr>\n",
              "      <th>4</th>\n",
              "      <td>Distributor</td>\n",
              "      <td>2018-04-10</td>\n",
              "      <td>2018-05-31</td>\n",
              "      <td>2018-06-16</td>\n",
              "      <td>2018-06-26</td>\n",
              "      <td>111</td>\n",
              "      <td>26</td>\n",
              "      <td>8</td>\n",
              "      <td>0.100</td>\n",
              "      <td>1822.4</td>\n",
              "      <td>1476.144</td>\n",
              "    </tr>\n",
              "  </tbody>\n",
              "</table>\n",
              "</div>\n",
              "      <button class=\"colab-df-convert\" onclick=\"convertToInteractive('df-606b49b9-e819-4a7a-9936-f31c5db75679')\"\n",
              "              title=\"Convert this dataframe to an interactive table.\"\n",
              "              style=\"display:none;\">\n",
              "        \n",
              "  <svg xmlns=\"http://www.w3.org/2000/svg\" height=\"24px\"viewBox=\"0 0 24 24\"\n",
              "       width=\"24px\">\n",
              "    <path d=\"M0 0h24v24H0V0z\" fill=\"none\"/>\n",
              "    <path d=\"M18.56 5.44l.94 2.06.94-2.06 2.06-.94-2.06-.94-.94-2.06-.94 2.06-2.06.94zm-11 1L8.5 8.5l.94-2.06 2.06-.94-2.06-.94L8.5 2.5l-.94 2.06-2.06.94zm10 10l.94 2.06.94-2.06 2.06-.94-2.06-.94-.94-2.06-.94 2.06-2.06.94z\"/><path d=\"M17.41 7.96l-1.37-1.37c-.4-.4-.92-.59-1.43-.59-.52 0-1.04.2-1.43.59L10.3 9.45l-7.72 7.72c-.78.78-.78 2.05 0 2.83L4 21.41c.39.39.9.59 1.41.59.51 0 1.02-.2 1.41-.59l7.78-7.78 2.81-2.81c.8-.78.8-2.07 0-2.86zM5.41 20L4 18.59l7.72-7.72 1.47 1.35L5.41 20z\"/>\n",
              "  </svg>\n",
              "      </button>\n",
              "      \n",
              "  <style>\n",
              "    .colab-df-container {\n",
              "      display:flex;\n",
              "      flex-wrap:wrap;\n",
              "      gap: 12px;\n",
              "    }\n",
              "\n",
              "    .colab-df-convert {\n",
              "      background-color: #E8F0FE;\n",
              "      border: none;\n",
              "      border-radius: 50%;\n",
              "      cursor: pointer;\n",
              "      display: none;\n",
              "      fill: #1967D2;\n",
              "      height: 32px;\n",
              "      padding: 0 0 0 0;\n",
              "      width: 32px;\n",
              "    }\n",
              "\n",
              "    .colab-df-convert:hover {\n",
              "      background-color: #E2EBFA;\n",
              "      box-shadow: 0px 1px 2px rgba(60, 64, 67, 0.3), 0px 1px 3px 1px rgba(60, 64, 67, 0.15);\n",
              "      fill: #174EA6;\n",
              "    }\n",
              "\n",
              "    [theme=dark] .colab-df-convert {\n",
              "      background-color: #3B4455;\n",
              "      fill: #D2E3FC;\n",
              "    }\n",
              "\n",
              "    [theme=dark] .colab-df-convert:hover {\n",
              "      background-color: #434B5C;\n",
              "      box-shadow: 0px 1px 3px 1px rgba(0, 0, 0, 0.15);\n",
              "      filter: drop-shadow(0px 1px 2px rgba(0, 0, 0, 0.3));\n",
              "      fill: #FFFFFF;\n",
              "    }\n",
              "  </style>\n",
              "\n",
              "      <script>\n",
              "        const buttonEl =\n",
              "          document.querySelector('#df-606b49b9-e819-4a7a-9936-f31c5db75679 button.colab-df-convert');\n",
              "        buttonEl.style.display =\n",
              "          google.colab.kernel.accessAllowed ? 'block' : 'none';\n",
              "\n",
              "        async function convertToInteractive(key) {\n",
              "          const element = document.querySelector('#df-606b49b9-e819-4a7a-9936-f31c5db75679');\n",
              "          const dataTable =\n",
              "            await google.colab.kernel.invokeFunction('convertToInteractive',\n",
              "                                                     [key], {});\n",
              "          if (!dataTable) return;\n",
              "\n",
              "          const docLinkHtml = 'Like what you see? Visit the ' +\n",
              "            '<a target=\"_blank\" href=https://colab.research.google.com/notebooks/data_table.ipynb>data table notebook</a>'\n",
              "            + ' to learn more about interactive tables.';\n",
              "          element.innerHTML = '';\n",
              "          dataTable['output_type'] = 'display_data';\n",
              "          await google.colab.output.renderOutput(dataTable, element);\n",
              "          const docLink = document.createElement('div');\n",
              "          docLink.innerHTML = docLinkHtml;\n",
              "          element.appendChild(docLink);\n",
              "        }\n",
              "      </script>\n",
              "    </div>\n",
              "  </div>\n",
              "  "
            ],
            "text/plain": [
              "   CANAL_VENDA DATA_ADQUIRIDA DATA_PEDIDO  ... DESCONTO PRECO_UNICO  CUSTO_UNICO\n",
              "0     In-Store     2017-12-31  2018-05-31  ...    0.075      1963.1     1001.181\n",
              "1       Online     2017-12-31  2018-05-31  ...    0.075      3939.6     3348.660\n",
              "2  Distributor     2017-12-31  2018-05-31  ...    0.050      1775.5      781.220\n",
              "3    Wholesale     2017-12-31  2018-05-31  ...    0.075      2324.9     1464.687\n",
              "4  Distributor     2018-04-10  2018-05-31  ...    0.100      1822.4     1476.144\n",
              "\n",
              "[5 rows x 11 columns]"
            ]
          },
          "metadata": {},
          "execution_count": 44
        }
      ]
    },
    {
      "cell_type": "code",
      "source": [
        "df.tail()"
      ],
      "metadata": {
        "colab": {
          "base_uri": "https://localhost:8080/",
          "height": 206
        },
        "id": "TzDBwMcRCXiW",
        "outputId": "4e101815-baa6-4dff-e327-dba7e85388e2"
      },
      "execution_count": 45,
      "outputs": [
        {
          "output_type": "execute_result",
          "data": {
            "text/html": [
              "\n",
              "  <div id=\"df-900a1aac-4a3c-43b7-b1b8-b290e210eb83\">\n",
              "    <div class=\"colab-df-container\">\n",
              "      <div>\n",
              "<style scoped>\n",
              "    .dataframe tbody tr th:only-of-type {\n",
              "        vertical-align: middle;\n",
              "    }\n",
              "\n",
              "    .dataframe tbody tr th {\n",
              "        vertical-align: top;\n",
              "    }\n",
              "\n",
              "    .dataframe thead th {\n",
              "        text-align: right;\n",
              "    }\n",
              "</style>\n",
              "<table border=\"1\" class=\"dataframe\">\n",
              "  <thead>\n",
              "    <tr style=\"text-align: right;\">\n",
              "      <th></th>\n",
              "      <th>CANAL_VENDA</th>\n",
              "      <th>DATA_ADQUIRIDA</th>\n",
              "      <th>DATA_PEDIDO</th>\n",
              "      <th>DATA_ENVIO</th>\n",
              "      <th>DATA_ENTREGA</th>\n",
              "      <th>ID_LOJA</th>\n",
              "      <th>ID_PRODUTO</th>\n",
              "      <th>QTD_PRODUTO</th>\n",
              "      <th>DESCONTO</th>\n",
              "      <th>PRECO_UNICO</th>\n",
              "      <th>CUSTO_UNICO</th>\n",
              "    </tr>\n",
              "  </thead>\n",
              "  <tbody>\n",
              "    <tr>\n",
              "      <th>7986</th>\n",
              "      <td>In-Store</td>\n",
              "      <td>2020-09-26</td>\n",
              "      <td>2020-12-30</td>\n",
              "      <td>2021-01-07</td>\n",
              "      <td>2021-01-14</td>\n",
              "      <td>339</td>\n",
              "      <td>29</td>\n",
              "      <td>1</td>\n",
              "      <td>0.075</td>\n",
              "      <td>234.5</td>\n",
              "      <td>121.940</td>\n",
              "    </tr>\n",
              "    <tr>\n",
              "      <th>7987</th>\n",
              "      <td>Online</td>\n",
              "      <td>2020-09-26</td>\n",
              "      <td>2020-12-30</td>\n",
              "      <td>2021-01-02</td>\n",
              "      <td>2021-01-04</td>\n",
              "      <td>202</td>\n",
              "      <td>3</td>\n",
              "      <td>6</td>\n",
              "      <td>0.050</td>\n",
              "      <td>3202.6</td>\n",
              "      <td>1921.560</td>\n",
              "    </tr>\n",
              "    <tr>\n",
              "      <th>7988</th>\n",
              "      <td>Online</td>\n",
              "      <td>2020-09-26</td>\n",
              "      <td>2020-12-30</td>\n",
              "      <td>2021-01-23</td>\n",
              "      <td>2021-01-26</td>\n",
              "      <td>241</td>\n",
              "      <td>35</td>\n",
              "      <td>5</td>\n",
              "      <td>0.200</td>\n",
              "      <td>3825.7</td>\n",
              "      <td>2792.761</td>\n",
              "    </tr>\n",
              "    <tr>\n",
              "      <th>7989</th>\n",
              "      <td>Online</td>\n",
              "      <td>2020-09-26</td>\n",
              "      <td>2020-12-30</td>\n",
              "      <td>2021-01-20</td>\n",
              "      <td>2021-01-25</td>\n",
              "      <td>112</td>\n",
              "      <td>36</td>\n",
              "      <td>8</td>\n",
              "      <td>0.100</td>\n",
              "      <td>1072.0</td>\n",
              "      <td>804.000</td>\n",
              "    </tr>\n",
              "    <tr>\n",
              "      <th>7990</th>\n",
              "      <td>In-Store</td>\n",
              "      <td>2020-09-26</td>\n",
              "      <td>2020-12-30</td>\n",
              "      <td>2021-01-13</td>\n",
              "      <td>2021-01-19</td>\n",
              "      <td>237</td>\n",
              "      <td>43</td>\n",
              "      <td>5</td>\n",
              "      <td>0.075</td>\n",
              "      <td>2211.0</td>\n",
              "      <td>1370.820</td>\n",
              "    </tr>\n",
              "  </tbody>\n",
              "</table>\n",
              "</div>\n",
              "      <button class=\"colab-df-convert\" onclick=\"convertToInteractive('df-900a1aac-4a3c-43b7-b1b8-b290e210eb83')\"\n",
              "              title=\"Convert this dataframe to an interactive table.\"\n",
              "              style=\"display:none;\">\n",
              "        \n",
              "  <svg xmlns=\"http://www.w3.org/2000/svg\" height=\"24px\"viewBox=\"0 0 24 24\"\n",
              "       width=\"24px\">\n",
              "    <path d=\"M0 0h24v24H0V0z\" fill=\"none\"/>\n",
              "    <path d=\"M18.56 5.44l.94 2.06.94-2.06 2.06-.94-2.06-.94-.94-2.06-.94 2.06-2.06.94zm-11 1L8.5 8.5l.94-2.06 2.06-.94-2.06-.94L8.5 2.5l-.94 2.06-2.06.94zm10 10l.94 2.06.94-2.06 2.06-.94-2.06-.94-.94-2.06-.94 2.06-2.06.94z\"/><path d=\"M17.41 7.96l-1.37-1.37c-.4-.4-.92-.59-1.43-.59-.52 0-1.04.2-1.43.59L10.3 9.45l-7.72 7.72c-.78.78-.78 2.05 0 2.83L4 21.41c.39.39.9.59 1.41.59.51 0 1.02-.2 1.41-.59l7.78-7.78 2.81-2.81c.8-.78.8-2.07 0-2.86zM5.41 20L4 18.59l7.72-7.72 1.47 1.35L5.41 20z\"/>\n",
              "  </svg>\n",
              "      </button>\n",
              "      \n",
              "  <style>\n",
              "    .colab-df-container {\n",
              "      display:flex;\n",
              "      flex-wrap:wrap;\n",
              "      gap: 12px;\n",
              "    }\n",
              "\n",
              "    .colab-df-convert {\n",
              "      background-color: #E8F0FE;\n",
              "      border: none;\n",
              "      border-radius: 50%;\n",
              "      cursor: pointer;\n",
              "      display: none;\n",
              "      fill: #1967D2;\n",
              "      height: 32px;\n",
              "      padding: 0 0 0 0;\n",
              "      width: 32px;\n",
              "    }\n",
              "\n",
              "    .colab-df-convert:hover {\n",
              "      background-color: #E2EBFA;\n",
              "      box-shadow: 0px 1px 2px rgba(60, 64, 67, 0.3), 0px 1px 3px 1px rgba(60, 64, 67, 0.15);\n",
              "      fill: #174EA6;\n",
              "    }\n",
              "\n",
              "    [theme=dark] .colab-df-convert {\n",
              "      background-color: #3B4455;\n",
              "      fill: #D2E3FC;\n",
              "    }\n",
              "\n",
              "    [theme=dark] .colab-df-convert:hover {\n",
              "      background-color: #434B5C;\n",
              "      box-shadow: 0px 1px 3px 1px rgba(0, 0, 0, 0.15);\n",
              "      filter: drop-shadow(0px 1px 2px rgba(0, 0, 0, 0.3));\n",
              "      fill: #FFFFFF;\n",
              "    }\n",
              "  </style>\n",
              "\n",
              "      <script>\n",
              "        const buttonEl =\n",
              "          document.querySelector('#df-900a1aac-4a3c-43b7-b1b8-b290e210eb83 button.colab-df-convert');\n",
              "        buttonEl.style.display =\n",
              "          google.colab.kernel.accessAllowed ? 'block' : 'none';\n",
              "\n",
              "        async function convertToInteractive(key) {\n",
              "          const element = document.querySelector('#df-900a1aac-4a3c-43b7-b1b8-b290e210eb83');\n",
              "          const dataTable =\n",
              "            await google.colab.kernel.invokeFunction('convertToInteractive',\n",
              "                                                     [key], {});\n",
              "          if (!dataTable) return;\n",
              "\n",
              "          const docLinkHtml = 'Like what you see? Visit the ' +\n",
              "            '<a target=\"_blank\" href=https://colab.research.google.com/notebooks/data_table.ipynb>data table notebook</a>'\n",
              "            + ' to learn more about interactive tables.';\n",
              "          element.innerHTML = '';\n",
              "          dataTable['output_type'] = 'display_data';\n",
              "          await google.colab.output.renderOutput(dataTable, element);\n",
              "          const docLink = document.createElement('div');\n",
              "          docLink.innerHTML = docLinkHtml;\n",
              "          element.appendChild(docLink);\n",
              "        }\n",
              "      </script>\n",
              "    </div>\n",
              "  </div>\n",
              "  "
            ],
            "text/plain": [
              "     CANAL_VENDA DATA_ADQUIRIDA DATA_PEDIDO  ... DESCONTO PRECO_UNICO  CUSTO_UNICO\n",
              "7986    In-Store     2020-09-26  2020-12-30  ...    0.075       234.5      121.940\n",
              "7987      Online     2020-09-26  2020-12-30  ...    0.050      3202.6     1921.560\n",
              "7988      Online     2020-09-26  2020-12-30  ...    0.200      3825.7     2792.761\n",
              "7989      Online     2020-09-26  2020-12-30  ...    0.100      1072.0      804.000\n",
              "7990    In-Store     2020-09-26  2020-12-30  ...    0.075      2211.0     1370.820\n",
              "\n",
              "[5 rows x 11 columns]"
            ]
          },
          "metadata": {},
          "execution_count": 45
        }
      ]
    },
    {
      "cell_type": "markdown",
      "source": [
        "### 3.0 Feature Enginnering"
      ],
      "metadata": {
        "id": "zoEc5Y6MD3G5"
      }
    },
    {
      "cell_type": "code",
      "source": [
        "df['LUCRO_PRODUTO'] = df['PRECO_UNICO'] - df['CUSTO_UNICO']\n",
        "df['INTERVALO_ENTREGA'] = df['DATA_ENTREGA'] - df['DATA_ENVIO']\n",
        "df['VALOR_COMPRA'] = df['QTD_PRODUTO'] * df['PRECO_UNICO']\n",
        "df['LUCRO_TOTAL'] = df['QTD_PRODUTO'] * df['LUCRO_PRODUTO']\n",
        "df['SUPLLY_CHAIN'] = df['DATA_PEDIDO'] - df['DATA_ADQUIRIDA']"
      ],
      "metadata": {
        "id": "Z1tnAuTLCcWQ"
      },
      "execution_count": 72,
      "outputs": []
    },
    {
      "cell_type": "code",
      "source": [
        "df[['LUCRO_PRODUTO', 'INTERVALO_ENTREGA', 'VALOR_COMPRA', 'LUCRO_TOTAL', 'SUPLLY_CHAIN']].head()"
      ],
      "metadata": {
        "colab": {
          "base_uri": "https://localhost:8080/",
          "height": 206
        },
        "id": "Jh6LjLE8CkzZ",
        "outputId": "dba5918a-9369-4507-fcfd-cc81523e799d"
      },
      "execution_count": 74,
      "outputs": [
        {
          "output_type": "execute_result",
          "data": {
            "text/html": [
              "\n",
              "  <div id=\"df-2fe2ac77-df1c-4717-9a17-7e8d4c19201b\">\n",
              "    <div class=\"colab-df-container\">\n",
              "      <div>\n",
              "<style scoped>\n",
              "    .dataframe tbody tr th:only-of-type {\n",
              "        vertical-align: middle;\n",
              "    }\n",
              "\n",
              "    .dataframe tbody tr th {\n",
              "        vertical-align: top;\n",
              "    }\n",
              "\n",
              "    .dataframe thead th {\n",
              "        text-align: right;\n",
              "    }\n",
              "</style>\n",
              "<table border=\"1\" class=\"dataframe\">\n",
              "  <thead>\n",
              "    <tr style=\"text-align: right;\">\n",
              "      <th></th>\n",
              "      <th>LUCRO_PRODUTO</th>\n",
              "      <th>INTERVALO_ENTREGA</th>\n",
              "      <th>VALOR_COMPRA</th>\n",
              "      <th>LUCRO_TOTAL</th>\n",
              "      <th>SUPLLY_CHAIN</th>\n",
              "    </tr>\n",
              "  </thead>\n",
              "  <tbody>\n",
              "    <tr>\n",
              "      <th>0</th>\n",
              "      <td>961.919</td>\n",
              "      <td>5 days</td>\n",
              "      <td>9815.5</td>\n",
              "      <td>4809.595</td>\n",
              "      <td>151 days</td>\n",
              "    </tr>\n",
              "    <tr>\n",
              "      <th>1</th>\n",
              "      <td>590.940</td>\n",
              "      <td>10 days</td>\n",
              "      <td>11818.8</td>\n",
              "      <td>1772.820</td>\n",
              "      <td>151 days</td>\n",
              "    </tr>\n",
              "    <tr>\n",
              "      <th>2</th>\n",
              "      <td>994.280</td>\n",
              "      <td>10 days</td>\n",
              "      <td>1775.5</td>\n",
              "      <td>994.280</td>\n",
              "      <td>151 days</td>\n",
              "    </tr>\n",
              "    <tr>\n",
              "      <th>3</th>\n",
              "      <td>860.213</td>\n",
              "      <td>5 days</td>\n",
              "      <td>18599.2</td>\n",
              "      <td>6881.704</td>\n",
              "      <td>151 days</td>\n",
              "    </tr>\n",
              "    <tr>\n",
              "      <th>4</th>\n",
              "      <td>346.256</td>\n",
              "      <td>10 days</td>\n",
              "      <td>14579.2</td>\n",
              "      <td>2770.048</td>\n",
              "      <td>51 days</td>\n",
              "    </tr>\n",
              "  </tbody>\n",
              "</table>\n",
              "</div>\n",
              "      <button class=\"colab-df-convert\" onclick=\"convertToInteractive('df-2fe2ac77-df1c-4717-9a17-7e8d4c19201b')\"\n",
              "              title=\"Convert this dataframe to an interactive table.\"\n",
              "              style=\"display:none;\">\n",
              "        \n",
              "  <svg xmlns=\"http://www.w3.org/2000/svg\" height=\"24px\"viewBox=\"0 0 24 24\"\n",
              "       width=\"24px\">\n",
              "    <path d=\"M0 0h24v24H0V0z\" fill=\"none\"/>\n",
              "    <path d=\"M18.56 5.44l.94 2.06.94-2.06 2.06-.94-2.06-.94-.94-2.06-.94 2.06-2.06.94zm-11 1L8.5 8.5l.94-2.06 2.06-.94-2.06-.94L8.5 2.5l-.94 2.06-2.06.94zm10 10l.94 2.06.94-2.06 2.06-.94-2.06-.94-.94-2.06-.94 2.06-2.06.94z\"/><path d=\"M17.41 7.96l-1.37-1.37c-.4-.4-.92-.59-1.43-.59-.52 0-1.04.2-1.43.59L10.3 9.45l-7.72 7.72c-.78.78-.78 2.05 0 2.83L4 21.41c.39.39.9.59 1.41.59.51 0 1.02-.2 1.41-.59l7.78-7.78 2.81-2.81c.8-.78.8-2.07 0-2.86zM5.41 20L4 18.59l7.72-7.72 1.47 1.35L5.41 20z\"/>\n",
              "  </svg>\n",
              "      </button>\n",
              "      \n",
              "  <style>\n",
              "    .colab-df-container {\n",
              "      display:flex;\n",
              "      flex-wrap:wrap;\n",
              "      gap: 12px;\n",
              "    }\n",
              "\n",
              "    .colab-df-convert {\n",
              "      background-color: #E8F0FE;\n",
              "      border: none;\n",
              "      border-radius: 50%;\n",
              "      cursor: pointer;\n",
              "      display: none;\n",
              "      fill: #1967D2;\n",
              "      height: 32px;\n",
              "      padding: 0 0 0 0;\n",
              "      width: 32px;\n",
              "    }\n",
              "\n",
              "    .colab-df-convert:hover {\n",
              "      background-color: #E2EBFA;\n",
              "      box-shadow: 0px 1px 2px rgba(60, 64, 67, 0.3), 0px 1px 3px 1px rgba(60, 64, 67, 0.15);\n",
              "      fill: #174EA6;\n",
              "    }\n",
              "\n",
              "    [theme=dark] .colab-df-convert {\n",
              "      background-color: #3B4455;\n",
              "      fill: #D2E3FC;\n",
              "    }\n",
              "\n",
              "    [theme=dark] .colab-df-convert:hover {\n",
              "      background-color: #434B5C;\n",
              "      box-shadow: 0px 1px 3px 1px rgba(0, 0, 0, 0.15);\n",
              "      filter: drop-shadow(0px 1px 2px rgba(0, 0, 0, 0.3));\n",
              "      fill: #FFFFFF;\n",
              "    }\n",
              "  </style>\n",
              "\n",
              "      <script>\n",
              "        const buttonEl =\n",
              "          document.querySelector('#df-2fe2ac77-df1c-4717-9a17-7e8d4c19201b button.colab-df-convert');\n",
              "        buttonEl.style.display =\n",
              "          google.colab.kernel.accessAllowed ? 'block' : 'none';\n",
              "\n",
              "        async function convertToInteractive(key) {\n",
              "          const element = document.querySelector('#df-2fe2ac77-df1c-4717-9a17-7e8d4c19201b');\n",
              "          const dataTable =\n",
              "            await google.colab.kernel.invokeFunction('convertToInteractive',\n",
              "                                                     [key], {});\n",
              "          if (!dataTable) return;\n",
              "\n",
              "          const docLinkHtml = 'Like what you see? Visit the ' +\n",
              "            '<a target=\"_blank\" href=https://colab.research.google.com/notebooks/data_table.ipynb>data table notebook</a>'\n",
              "            + ' to learn more about interactive tables.';\n",
              "          element.innerHTML = '';\n",
              "          dataTable['output_type'] = 'display_data';\n",
              "          await google.colab.output.renderOutput(dataTable, element);\n",
              "          const docLink = document.createElement('div');\n",
              "          docLink.innerHTML = docLinkHtml;\n",
              "          element.appendChild(docLink);\n",
              "        }\n",
              "      </script>\n",
              "    </div>\n",
              "  </div>\n",
              "  "
            ],
            "text/plain": [
              "   LUCRO_PRODUTO INTERVALO_ENTREGA  VALOR_COMPRA  LUCRO_TOTAL SUPLLY_CHAIN\n",
              "0        961.919            5 days        9815.5     4809.595     151 days\n",
              "1        590.940           10 days       11818.8     1772.820     151 days\n",
              "2        994.280           10 days        1775.5      994.280     151 days\n",
              "3        860.213            5 days       18599.2     6881.704     151 days\n",
              "4        346.256           10 days       14579.2     2770.048      51 days"
            ]
          },
          "metadata": {},
          "execution_count": 74
        }
      ]
    },
    {
      "cell_type": "markdown",
      "source": [
        "### 4.0 Visualização de dados"
      ],
      "metadata": {
        "id": "JxqcyQttBYCb"
      }
    },
    {
      "cell_type": "code",
      "source": [
        "f, ax = plt.subplots(figsize=(10, 5))\n",
        "sn.countplot(y=\"CANAL_VENDA\", data=df, color=\"c\")\n"
      ],
      "metadata": {
        "colab": {
          "base_uri": "https://localhost:8080/",
          "height": 351
        },
        "id": "a4be5LpHBgyn",
        "outputId": "bfab19cf-2772-4ddd-b7ea-91a4e7e60cc7"
      },
      "execution_count": 80,
      "outputs": [
        {
          "output_type": "execute_result",
          "data": {
            "text/plain": [
              "<matplotlib.axes._subplots.AxesSubplot at 0x7f5168f448d0>"
            ]
          },
          "metadata": {},
          "execution_count": 80
        },
        {
          "output_type": "display_data",
          "data": {
            "image/png": "[encoded data removed]",
            "text/plain": [
              "<Figure size 720x360 with 1 Axes>"
            ]
          },
          "metadata": {
            "needs_background": "light"
          }
        }
      ]
    },
    {
      "cell_type": "code",
      "source": [
        ""
      ],
      "metadata": {
        "id": "YGR0kjqUP1I0"
      },
      "execution_count": null,
      "outputs": []
    }
  ]
}